{
 "cells": [
  {
   "cell_type": "code",
   "execution_count": 3,
   "id": "1a1d5622",
   "metadata": {},
   "outputs": [],
   "source": [
    "#import packages\n",
    "import numpy as np\n",
    "import pandas as pd\n",
    "import tensorflow as tf\n",
    "from tensorflow.keras.layers import Input, Flatten, Concatenate, Embedding, Dense\n",
    "from tensorflow.keras.models import Model\n",
    "from tensorflow.keras.optimizers import Adam\n",
    "from sklearn.preprocessing import LabelEncoder, StandardScaler\n",
    "from numpy.lib.stride_tricks import sliding_window_view\n",
    "from keras_efficient_kan import KANLinear\n",
    "import keras\n",
    "from keras import ops\n",
    "from tensorflow.keras import layers, models\n",
    "from tensorflow.keras.layers import LSTM, Dense, Input, Embedding, Flatten, Concatenate, Dropout\n",
    "from tensorflow.keras.callbacks import EarlyStopping"
   ]
  },
  {
   "cell_type": "markdown",
   "id": "2a270dda",
   "metadata": {},
   "source": [
    "# Binary classifier model\n",
    "This section includes the metrics for the binary classifier model"
   ]
  },
  {
   "cell_type": "markdown",
   "id": "800d4f09",
   "metadata": {},
   "source": [
    "We start by computing the Training and validation datasets"
   ]
  },
  {
   "cell_type": "code",
   "execution_count": 1,
   "id": "d1ba3fec",
   "metadata": {},
   "outputs": [],
   "source": [
    "import pandas as pd\n",
    "import numpy as np\n",
    "from sklearn.preprocessing import StandardScaler\n",
    "from tensorflow.keras import layers, models, Input\n",
    "from tensorflow.keras.models import Model\n",
    "from tensorflow.keras.callbacks import EarlyStopping\n",
    "from tensorflow.keras.optimizers import Adam\n",
    "from keras_efficient_kan import KANLinear\n",
    "from tqdm import tqdm\n",
    "\n",
    "# ── CONFIG ────────────────────────────────\n",
    "WEATHER_CSV = \"../data/clean/valais_clean.csv\"\n",
    "STATIONS_CSV = \"../data/clean/valais_stations.csv\"\n",
    "\n",
    "HIST_LEN = 36     # 6 hours history\n",
    "HORIZON = 6       # 6 hour ahead\n",
    "BATCH_SIZE = 256\n",
    "EPOCHS = 10\n",
    "SPLIT_FRACTION = 0.8\n",
    "LEARNING_RATE = 0.0001\n",
    "\n",
    "#set the numpy seed to make sure that the unsersampling is reproducible\n",
    "np.random.seed(42)\n",
    "\n",
    "# ── LOAD DATA ─────────────────────────────\n",
    "df_weather = pd.read_csv(WEATHER_CSV)\n",
    "df_weather[\"time\"] = pd.to_datetime(df_weather[\"time\"], format=\"%Y%m%d%H%M\")\n",
    "\n",
    "df_stations = pd.read_csv(STATIONS_CSV)\n",
    "df = df_weather.merge(df_stations[[\"station\", \"east\", \"north\", \"altitude\"]], on=\"station\", how=\"left\")\n",
    "\n",
    "# ── BUILD WIDE FORMAT ─────────────────────\n",
    "selected_features = ['precip', 'temperature', 'East', 'North', 'pressure', 'moisture']\n",
    "metadata_features = ['east', 'north', 'altitude']\n",
    "\n",
    "all_features = selected_features + metadata_features\n",
    "\n",
    "df_features = df[[\"time\", \"station\"] + all_features].copy()\n",
    "df_pivot = df_features.pivot(index=\"time\", columns=\"station\", values=all_features)\n",
    "df_pivot.columns = [f\"{feat}_{station}\" for feat, station in df_pivot.columns]\n",
    "df_pivot = df_pivot.sort_index()\n",
    "df_pivot = df_pivot.dropna()  \n",
    "\n",
    "\n",
    "# ── SPLITTING ───────────────────────────────\n",
    "split1 = int(0.6 * len(df_pivot))\n",
    "split2 = int(0.8 * len(df_pivot))\n",
    "df_train = df_pivot.iloc[:split1]\n",
    "df_val   = df_pivot.iloc[split1:split2]\n",
    "df_test  = df_pivot.iloc[split2:]\n",
    "\n",
    "# ── SCALING ───────────────────────────────\n",
    "scaler = StandardScaler()\n",
    "data_train = scaler.fit_transform(df_train)\n",
    "data_val   = scaler.transform(df_val)\n",
    "data_test  = scaler.transform(df_test)\n",
    "\n",
    "# ── SAMPLE CONSTRUCTION ───────────────────\n",
    "# ── SETUP ──────────────────────────────────\n",
    "precip_cols = [col for col in df_pivot.columns if col.startswith(\"precip_\")]\n",
    "num_stations = len(precip_cols)\n",
    "\n",
    "# ── TRAIN SET CONSTRUCTION (undersampled) ─\n",
    "x_train, y_train = [], []\n",
    "train_scaled = pd.DataFrame(data_train, columns=df_train.columns, index=df_train.index)\n",
    "\n",
    "for i in range(HIST_LEN, len(train_scaled) - HORIZON):\n",
    "    x_window = train_scaled.iloc[i - HIST_LEN:i].values\n",
    "    horizon_vals = df_train.iloc[i + 1 : i + 1 + HORIZON][precip_cols].values\n",
    "    y_window = (np.any(horizon_vals > 0, axis=0)).astype(int)\n",
    "    total_future_rain = np.sum(horizon_vals)\n",
    "\n",
    "    if total_future_rain == 0 and np.random.rand() > 0.2:\n",
    "        continue\n",
    "\n",
    "    x_train.append(x_window)\n",
    "    y_train.append(y_window)\n",
    "\n",
    "# ── VALIDATION SET CONSTRUCTION (no undersampling) ─\n",
    "x_val, y_val = [], []\n",
    "val_scaled = pd.DataFrame(data_val, columns=df_val.columns, index=df_val.index)\n",
    "\n",
    "for i in range(HIST_LEN, len(val_scaled) - HORIZON):\n",
    "    x_window = val_scaled.iloc[i - HIST_LEN:i].values\n",
    "    horizon_vals = df_val.iloc[i + 1 : i + 1 + HORIZON][precip_cols].values\n",
    "    y_window = (np.any(horizon_vals > 0, axis=0)).astype(int)\n",
    "\n",
    "    x_val.append(x_window)\n",
    "    y_val.append(y_window)\n",
    "\n",
    "# ── TEST SET CONSTRUCTION (no undersampling) ─\n",
    "x_test, y_test = [], []\n",
    "test_scaled = pd.DataFrame(data_test, columns=df_test.columns, index=df_test.index)\n",
    "\n",
    "for i in range(HIST_LEN, len(test_scaled) - HORIZON):\n",
    "    x_window = test_scaled.iloc[i - HIST_LEN:i].values\n",
    "    horizon_vals = df_test.iloc[i + 1 : i + 1 + HORIZON][precip_cols].values\n",
    "    y_window = (np.any(horizon_vals > 0, axis=0)).astype(int)\n",
    "\n",
    "    x_test.append(x_window)\n",
    "    y_test.append(y_window)\n",
    "\n",
    "# ── CONVERT TO ARRAYS ─────────────────────\n",
    "x_train = np.array(x_train)\n",
    "y_train = np.array(y_train)\n",
    "x_val   = np.array(x_val)\n",
    "y_val   = np.array(y_val)\n",
    "x_test  = np.array(x_test)\n",
    "y_test  = np.array(y_test)"
   ]
  },
  {
   "cell_type": "code",
   "execution_count": 15,
   "id": "8c7b08ee",
   "metadata": {},
   "outputs": [
    {
     "name": "stdout",
     "output_type": "stream",
     "text": [
      "88500\n"
     ]
    }
   ],
   "source": [
    "print(len(y_train))"
   ]
  },
  {
   "cell_type": "code",
   "execution_count": null,
   "id": "171cac72",
   "metadata": {},
   "outputs": [
    {
     "ename": "TypeError",
     "evalue": "object of type 'numpy.bool' has no len()",
     "output_type": "error",
     "traceback": [
      "\u001b[1;31m---------------------------------------------------------------------------\u001b[0m",
      "\u001b[1;31mTypeError\u001b[0m                                 Traceback (most recent call last)",
      "Cell \u001b[1;32mIn[16], line 1\u001b[0m\n\u001b[1;32m----> 1\u001b[0m \u001b[38;5;28mprint\u001b[39m(\u001b[38;5;28;43mlen\u001b[39;49m\u001b[43m(\u001b[49m\u001b[43mnp\u001b[49m\u001b[38;5;241;43m.\u001b[39;49m\u001b[43msum\u001b[49m\u001b[43m(\u001b[49m\u001b[43my_train\u001b[49m\u001b[43m)\u001b[49m\u001b[38;5;241;43m==\u001b[39;49m\u001b[38;5;241;43m0\u001b[39;49m\u001b[43m)\u001b[49m)\n",
      "\u001b[1;31mTypeError\u001b[0m: object of type 'numpy.bool' has no len()"
     ]
    }
   ],
   "source": [
    "print(len(y_train[np.sum(y_train)==0]))"
   ]
  },
  {
   "cell_type": "markdown",
   "id": "c5f3b5d6",
   "metadata": {},
   "source": [
    "Now we load the model"
   ]
  },
  {
   "cell_type": "code",
   "execution_count": 4,
   "id": "f962fb84",
   "metadata": {},
   "outputs": [],
   "source": [
    "model_binary = keras.models.load_model('../model_testing/forecast_binary_6.keras')"
   ]
  },
  {
   "cell_type": "markdown",
   "id": "af7b470d",
   "metadata": {},
   "source": [
    "We compute the test metrics"
   ]
  },
  {
   "cell_type": "code",
   "execution_count": 5,
   "id": "968ac718",
   "metadata": {},
   "outputs": [
    {
     "name": "stdout",
     "output_type": "stream",
     "text": [
      "\u001b[1m1643/1643\u001b[0m \u001b[32m━━━━━━━━━━━━━━━━━━━━\u001b[0m\u001b[37m\u001b[0m \u001b[1m11s\u001b[0m 6ms/step\n",
      "ACC:0.931996593525796, PREcision:0.7792199192106483, Recall:0.6918061508251465, f1:0.7329158115359342, auc:0.9512691573933063\n"
     ]
    }
   ],
   "source": [
    "from sklearn.metrics import accuracy_score, precision_score, recall_score, f1_score, roc_auc_score\n",
    "import numpy as np\n",
    "\n",
    "# Predict\n",
    "y_pred_proba = model_binary.predict(x_test)\n",
    "y_pred_binary = (y_pred_proba > 0.5).astype(int)\n",
    "\n",
    "# Flatten all stations across all samples\n",
    "y_true_flat = y_test.flatten()\n",
    "y_pred_flat = y_pred_binary.flatten()\n",
    "y_proba_flat = y_pred_proba.flatten()\n",
    "\n",
    "# Compute metrics\n",
    "acc  = accuracy_score(y_true_flat, y_pred_flat)\n",
    "prec = precision_score(y_true_flat, y_pred_flat)\n",
    "rec  = recall_score(y_true_flat, y_pred_flat)\n",
    "f1   = f1_score(y_true_flat, y_pred_flat)\n",
    "auc  = roc_auc_score(y_true_flat, y_proba_flat)\n",
    "\n",
    "# Print LaTeX table\n",
    "print(f'ACC:{acc}, PREcision:{prec}, Recall:{rec}, f1:{f1}, auc:{auc}')\n"
   ]
  },
  {
   "cell_type": "markdown",
   "id": "edf22616",
   "metadata": {},
   "source": [
    "The roc curve and AUC"
   ]
  },
  {
   "cell_type": "code",
   "execution_count": 8,
   "id": "79ae7269",
   "metadata": {},
   "outputs": [
    {
     "data": {
      "image/png": "[encoded data removed]",
      "text/plain": [
       "<Figure size 600x500 with 1 Axes>"
      ]
     },
     "metadata": {},
     "output_type": "display_data"
    }
   ],
   "source": [
    "import matplotlib.pyplot as plt\n",
    "from sklearn.metrics import roc_curve, auc\n",
    "\n",
    "fpr, tpr, _ = roc_curve(y_true_flat, y_proba_flat)\n",
    "roc_auc = auc(fpr, tpr)\n",
    "\n",
    "plt.figure(figsize=(6, 5))\n",
    "plt.plot(fpr, tpr, label=f\"AUC = {roc_auc:.3f}\")\n",
    "plt.plot([0, 1], [0, 1], linestyle=\"--\", color=\"gray\")\n",
    "plt.xlabel(\"False Positive Rate\", fontsize=13)\n",
    "plt.ylabel(\"True Positive Rate\", fontsize=13)\n",
    "plt.title(\"ROC Curve\", fontsize=13)\n",
    "plt.legend(loc=\"lower right\")\n",
    "plt.grid(True)\n",
    "plt.tight_layout()\n",
    "plt.savefig('../report/figures/model_summary/ROC_curve.pdf')\n",
    "plt.show()"
   ]
  },
  {
   "cell_type": "markdown",
   "id": "a6d1c041",
   "metadata": {},
   "source": [
    "and a confusion matrix"
   ]
  },
  {
   "cell_type": "code",
   "execution_count": 14,
   "id": "c89a1bae",
   "metadata": {},
   "outputs": [
    {
     "data": {
      "image/png": "[encoded data removed]",
      "text/plain": [
       "<Figure size 600x500 with 1 Axes>"
      ]
     },
     "metadata": {},
     "output_type": "display_data"
    }
   ],
   "source": [
    "import seaborn as sns\n",
    "from sklearn.metrics import confusion_matrix\n",
    "\n",
    "cm = confusion_matrix(y_true_flat, y_pred_flat, normalize='true')\n",
    "\n",
    "plt.figure(figsize=(6, 5))\n",
    "sns.heatmap(cm, annot=True, fmt=\".2f\", cmap=\"Blues\", cbar=False,\n",
    "            annot_kws={\"fontsize\": 13},\n",
    "            xticklabels=[\"No Rain\", \"Rain\"], yticklabels=[\"No Rain\", \"Rain\"])\n",
    "plt.xlabel(\"Predicted Label\", fontsize=13)\n",
    "plt.ylabel(\"True Label\", fontsize=13)\n",
    "plt.title(\"Normalized Confusion Matrix (Test Set)\", fontsize=13)\n",
    "plt.tight_layout()\n",
    "plt.savefig('../report/figures/model_summary/conf_matrix_binary.pdf')\n",
    "plt.show()"
   ]
  },
  {
   "cell_type": "markdown",
   "id": "1a839ffa",
   "metadata": {},
   "source": [
    "Look at the per station metrics"
   ]
  },
  {
   "cell_type": "code",
   "execution_count": null,
   "id": "37826d9b",
   "metadata": {},
   "outputs": [],
   "source": []
  },
  {
   "cell_type": "markdown",
   "id": "597173ad",
   "metadata": {},
   "source": [
    "# Scraps"
   ]
  },
  {
   "cell_type": "code",
   "execution_count": null,
   "id": "902416e3",
   "metadata": {},
   "outputs": [],
   "source": [
    "WEATHER_CSV = \"../data/clean/valais_clean.csv\"\n",
    "STATIONS_CSV = \"../data/clean/valais_stations.csv\"\n",
    "\n",
    "HIST_LEN = 36      # 6 hours history @ 10-minute freq\n",
    "HORIZON = 6        # predict 1 hour ahead (6 * 10 minutes)\n",
    "BATCH_SIZE = 256\n",
    "EPOCHS = 10\n",
    "SPLIT_FRACTION = 0.8\n",
    "LEARNING_RATE = 0.001\n",
    "\n",
    "# ── LOAD & PREP DATA ─────────────────────────────\n",
    "df_weather = pd.read_csv(WEATHER_CSV)\n",
    "df_weather[\"time\"] = pd.to_datetime(df_weather[\"time\"], format=\"%Y%m%d%H%M\")\n",
    "\n",
    "df_stations = pd.read_csv(STATIONS_CSV)\n",
    "df = df_weather.merge(df_stations[[\"station\", \"east\", \"north\", \"altitude\"]], on=\"station\", how=\"left\")\n",
    "df = df[df[\"station\"] == \"SIO\"]\n",
    "\n",
    "# ── NORMALIZE ────────────────────────────────────\n",
    "selected_features = ['precip', 'temperature', 'East', 'North', 'pressure', 'moisture']\n",
    "features = df[selected_features]\n",
    "features.index = df[\"time\"]\n",
    "\n",
    "train_split = int(SPLIT_FRACTION * len(features))\n",
    "scaler = StandardScaler()\n",
    "features_scaled = scaler.fit_transform(features)\n",
    "features = pd.DataFrame(features_scaled, index=features.index, columns=selected_features)\n",
    "\n",
    "x = []\n",
    "y = []\n",
    "\n",
    "# ── CREATE SAMPLES ───────────────────────────────\n",
    "for i in range(HIST_LEN, len(features) - HORIZON):\n",
    "    x.append(features.iloc[i - HIST_LEN:i].values)\n",
    "    y.append(features.iloc[i + HORIZON][\"precip\"])  # forecast rain\n",
    "\n",
    "x = np.array(x)\n",
    "y = np.array(y)\n",
    "\n",
    "split_idx = int(SPLIT_FRACTION * len(x))\n",
    "x_train, x_val = x[:split_idx], x[split_idx:]\n",
    "y_train, y_val = y[:split_idx], y[split_idx:]"
   ]
  },
  {
   "cell_type": "code",
   "execution_count": null,
   "id": "bbf882b2",
   "metadata": {},
   "outputs": [],
   "source": [
    "from sklearn.metrics import mean_squared_error, mean_absolute_error, confusion_matrix, ConfusionMatrixDisplay\n",
    "import numpy as np\n",
    "import matplotlib.pyplot as plt\n",
    "\n",
    "# ── PREDICT ───────────────────────────────────────────────\n",
    "y_pred = model.predict(x_val).flatten()  # or x_test if you have separate test set\n",
    "\n",
    "# ── EVALUATE REGRESSION METRICS ───────────────────────────\n",
    "mse = mean_squared_error(y_val, y_pred)\n",
    "mae = mean_absolute_error(y_val, y_pred)\n",
    "\n",
    "print(f\"Mean Squared Error: {mse:.4f}\")\n",
    "print(f\"Mean Absolute Error: {mae:.4f}\")"
   ]
  },
  {
   "cell_type": "code",
   "execution_count": null,
   "id": "51c6713f",
   "metadata": {},
   "outputs": [],
   "source": [
    "# ── DEFINE THRESHOLD ──────────────────────────────────────\n",
    "RAIN_THRESHOLD = 0.1\n",
    "\n",
    "# ── CONVERT TO BINARY CLASSES ─────────────────────────────\n",
    "y_true_binary = (y_val >= RAIN_THRESHOLD).astype(int)\n",
    "y_pred_binary = (y_pred >= RAIN_THRESHOLD).astype(int)\n",
    "\n",
    "# ── CONFUSION MATRIX ──────────────────────────────────────\n",
    "cm = confusion_matrix(y_true_binary, y_pred_binary, labels=[0, 1])\n",
    "disp = ConfusionMatrixDisplay(confusion_matrix=cm, display_labels=[\"No Rain\", \"Rain\"])\n",
    "\n",
    "disp.plot(cmap=\"Blues\")\n",
    "plt.title(\"Confusion Matrix: Predicted vs Actual Rain\")\n",
    "plt.grid(False)\n",
    "plt.show()\n"
   ]
  },
  {
   "cell_type": "code",
   "execution_count": null,
   "id": "1d878b57",
   "metadata": {},
   "outputs": [],
   "source": [
    "import pandas as pd\n",
    "import numpy as np\n",
    "from sklearn.preprocessing import StandardScaler\n",
    "from tensorflow.keras import layers, models, Input\n",
    "from tensorflow.keras.models import Model\n",
    "from tensorflow.keras.callbacks import EarlyStopping\n",
    "from tensorflow.keras.optimizers import Adam\n",
    "from keras_efficient_kan import KANLinear\n",
    "from tqdm import tqdm\n",
    "\n",
    "# ── CONFIG ────────────────────────────────\n",
    "WEATHER_CSV = \"../data/clean/valais_clean.csv\"\n",
    "STATIONS_CSV = \"../data/clean/valais_stations.csv\"\n",
    "\n",
    "HIST_LEN = 36     # 6 hours history\n",
    "HORIZON = 6       # 1 hour ahead\n",
    "BATCH_SIZE = 256\n",
    "EPOCHS = 10\n",
    "SPLIT_FRACTION = 0.8\n",
    "LEARNING_RATE = 0.0001\n",
    "\n",
    "# ── LOAD DATA ─────────────────────────────\n",
    "df_weather = pd.read_csv(WEATHER_CSV)\n",
    "df_weather[\"time\"] = pd.to_datetime(df_weather[\"time\"], format=\"%Y%m%d%H%M\")\n",
    "\n",
    "df_stations = pd.read_csv(STATIONS_CSV)\n",
    "df = df_weather.merge(df_stations[[\"station\", \"east\", \"north\", \"altitude\"]], on=\"station\", how=\"left\")\n",
    "\n",
    "# ── BUILD WIDE FORMAT ─────────────────────\n",
    "selected_features = ['precip', 'temperature', 'East', 'North', 'pressure', 'moisture']\n",
    "metadata_features = ['east', 'north', 'altitude']\n",
    "\n",
    "all_features = selected_features + metadata_features\n",
    "\n",
    "df_features = df[[\"time\", \"station\"] + all_features].copy()\n",
    "df_pivot = df_features.pivot(index=\"time\", columns=\"station\", values=all_features)\n",
    "df_pivot.columns = [f\"{feat}_{station}\" for feat, station in df_pivot.columns]\n",
    "df_pivot = df_pivot.sort_index()\n",
    "df_pivot = df_pivot.dropna()  \n",
    "\n",
    "# ── SCALING ───────────────────────────────\n",
    "scaler = StandardScaler()\n",
    "data_scaled = scaler.fit_transform(df_pivot)\n",
    "data_scaled = pd.DataFrame(data_scaled, columns=df_pivot.columns, index=df_pivot.index)\n",
    "\n",
    "# ── SAMPLE CONSTRUCTION ───────────────────\n",
    "x, y = [], []\n",
    "\n",
    "precip_cols = [col for col in df_pivot.columns if col.startswith(\"precip_\")]\n",
    "num_stations = len(precip_cols)\n",
    "\n",
    "for i in range(HIST_LEN, len(data_scaled) - HORIZON):\n",
    "    x_window = data_scaled.iloc[i - HIST_LEN:i].values\n",
    "    y_window = df_pivot.iloc[i + HORIZON][precip_cols].values  # unscaled precip for all stations\n",
    "\n",
    "    total_future_rain = np.sum(y_window)\n",
    "\n",
    "    # Optional undersampling\n",
    "    if total_future_rain == 0 and np.random.rand() > 0.1:\n",
    "        continue\n",
    "\n",
    "    x.append(x_window)\n",
    "    y.append(y_window)\n",
    "\n",
    "x = np.array(x)  \n",
    "y = np.array(y)  \n",
    "y = np.log1p(y)  \n",
    "\n",
    "# ── SPLIT ─────────────────────────────────\n",
    "split_idx = int(SPLIT_FRACTION * len(x))\n",
    "x_train, x_val = x[:split_idx], x[split_idx:]\n",
    "y_train, y_val = y[:split_idx], y[split_idx:]"
   ]
  },
  {
   "cell_type": "code",
   "execution_count": null,
   "id": "0c9523ed",
   "metadata": {},
   "outputs": [],
   "source": [
    "model2 = keras.models.load_model(\"../model_testing/forecast_allstation_lstm_kan.keras\")"
   ]
  },
  {
   "cell_type": "code",
   "execution_count": null,
   "id": "8a03eb98",
   "metadata": {},
   "outputs": [],
   "source": [
    "from sklearn.metrics import mean_absolute_error, mean_squared_error, r2_score, confusion_matrix, classification_report\n",
    "import numpy as np\n",
    "\n",
    "# ── PREDICT ON VALIDATION ──────────────────────────\n",
    "y_pred_val = model2.predict(x_val)\n",
    "\n",
    "# ── DE-LOG THE TARGETS ─────────────────────────────\n",
    "y_val_real = np.expm1(y_val)\n",
    "y_pred_real = np.expm1(y_pred_val)\n",
    "\n",
    "# ── METRICS PER STATION ────────────────────────────\n",
    "mae = mean_absolute_error(y_val_real, y_pred_real)\n",
    "rmse = np.sqrt(mean_squared_error(y_val_real, y_pred_real))\n",
    "r2 = r2_score(y_val_real, y_pred_real)\n",
    "\n",
    "print(f\"\\n✅ Validation Metrics:\")\n",
    "print(f\"MAE  : {mae:.4f}\")\n",
    "print(f\"RMSE : {rmse:.4f}\")\n",
    "print(f\"R²   : {r2:.4f}\")\n",
    "\n",
    "# ── OPTIONAL: BINARY RAIN/NO-RAIN CONFUSION MATRIX ─\n",
    "# Define threshold (e.g. any rain > 0.1 mm)\n",
    "threshold = 0.1\n",
    "y_val_binary = (y_val_real > threshold).astype(int)\n",
    "y_pred_binary = (y_pred_real > threshold).astype(int)\n",
    "\n",
    "# Flatten to treat all station predictions as independent binary outcomes\n",
    "y_val_flat = y_val_binary.flatten()\n",
    "y_pred_flat = y_pred_binary.flatten()\n",
    "\n",
    "cm = confusion_matrix(y_val_flat, y_pred_flat)\n",
    "print(\"\\n🧾 Confusion Matrix (Rain > 0.1 mm):\")\n",
    "print(cm)\n",
    "print(\"\\n\", classification_report(y_val_flat, y_pred_flat, digits=3))\n"
   ]
  },
  {
   "cell_type": "code",
   "execution_count": null,
   "id": "ee21f93a",
   "metadata": {},
   "outputs": [],
   "source": [
    "from tensorflow.keras.utils import plot_model\n",
    "\n",
    "plot_model(model2, to_file=\"../report/figures/model_summary/keras_lstm_kan.png\", show_shapes=True)"
   ]
  },
  {
   "cell_type": "code",
   "execution_count": null,
   "id": "d8298cf0",
   "metadata": {},
   "outputs": [],
   "source": [
    "model_bin = keras.models.load_model(\"../model_testing/forecast_binary_6.keras\")"
   ]
  },
  {
   "cell_type": "code",
   "execution_count": null,
   "id": "ffb56515",
   "metadata": {},
   "outputs": [],
   "source": [
    "from tensorflow.keras.utils import plot_model\n",
    "\n",
    "plot_model(model_bin, to_file=\"../report/figures/model_summary/forecast_binary_classifier.png\", show_shapes=True)"
   ]
  }
 ],
 "metadata": {
  "kernelspec": {
   "display_name": ".venv",
   "language": "python",
   "name": "python3"
  },
  "language_info": {
   "codemirror_mode": {
    "name": "ipython",
    "version": 3
   },
   "file_extension": ".py",
   "mimetype": "text/x-python",
   "name": "python",
   "nbconvert_exporter": "python",
   "pygments_lexer": "ipython3",
   "version": "3.10.0"
  }
 },
 "nbformat": 4,
 "nbformat_minor": 5
}
