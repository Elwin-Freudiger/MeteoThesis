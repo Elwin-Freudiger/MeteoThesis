{
 "cells": [
  {
   "cell_type": "code",
   "execution_count": 1,
   "id": "1a1d5622",
   "metadata": {},
   "outputs": [],
   "source": [
    "#import packages\n",
    "import numpy as np\n",
    "import pandas as pd\n",
    "import tensorflow as tf\n",
    "from tensorflow.keras.layers import Input, Flatten, Concatenate, Embedding, Dense\n",
    "from tensorflow.keras.models import Model\n",
    "from tensorflow.keras.optimizers import Adam\n",
    "from sklearn.preprocessing import LabelEncoder, StandardScaler\n",
    "from numpy.lib.stride_tricks import sliding_window_view\n",
    "from keras_efficient_kan import KANLinear\n",
    "import keras\n",
    "from keras import ops\n",
    "from tensorflow.keras import layers, models\n",
    "from tensorflow.keras.layers import LSTM, Dense, Input, Embedding, Flatten, Concatenate, Dropout\n",
    "from tensorflow.keras.callbacks import EarlyStopping"
   ]
  },
  {
   "cell_type": "code",
   "execution_count": 6,
   "id": "f962fb84",
   "metadata": {},
   "outputs": [],
   "source": [
    "model = keras.models.load_model('../model_testing/forecast_lstm__kan_balanced.keras')"
   ]
  },
  {
   "cell_type": "code",
   "execution_count": null,
   "id": "058ff0f9",
   "metadata": {},
   "outputs": [],
   "source": [
    "from tensorflow.keras.utils import plot_model\n",
    "\n",
    "plot_model(model, to_file=\"../report/figures/model_summary/logistic_6.png\", show_shapes=True)\n"
   ]
  },
  {
   "cell_type": "code",
   "execution_count": 3,
   "id": "902416e3",
   "metadata": {},
   "outputs": [],
   "source": [
    "WEATHER_CSV = \"../data/clean/valais_clean.csv\"\n",
    "STATIONS_CSV = \"../data/clean/valais_stations.csv\"\n",
    "\n",
    "HIST_LEN = 36      # 6 hours history @ 10-minute freq\n",
    "HORIZON = 6        # predict 1 hour ahead (6 * 10 minutes)\n",
    "BATCH_SIZE = 256\n",
    "EPOCHS = 10\n",
    "SPLIT_FRACTION = 0.8\n",
    "LEARNING_RATE = 0.001\n",
    "\n",
    "# ── LOAD & PREP DATA ─────────────────────────────\n",
    "df_weather = pd.read_csv(WEATHER_CSV)\n",
    "df_weather[\"time\"] = pd.to_datetime(df_weather[\"time\"], format=\"%Y%m%d%H%M\")\n",
    "\n",
    "df_stations = pd.read_csv(STATIONS_CSV)\n",
    "df = df_weather.merge(df_stations[[\"station\", \"east\", \"north\", \"altitude\"]], on=\"station\", how=\"left\")\n",
    "df = df[df[\"station\"] == \"SIO\"]\n",
    "\n",
    "# ── NORMALIZE ────────────────────────────────────\n",
    "selected_features = ['precip', 'temperature', 'East', 'North', 'pressure', 'moisture']\n",
    "features = df[selected_features]\n",
    "features.index = df[\"time\"]\n",
    "\n",
    "train_split = int(SPLIT_FRACTION * len(features))\n",
    "scaler = StandardScaler()\n",
    "features_scaled = scaler.fit_transform(features)\n",
    "features = pd.DataFrame(features_scaled, index=features.index, columns=selected_features)\n",
    "\n",
    "x = []\n",
    "y = []\n",
    "\n",
    "# ── CREATE SAMPLES ───────────────────────────────\n",
    "for i in range(HIST_LEN, len(features) - HORIZON):\n",
    "    x.append(features.iloc[i - HIST_LEN:i].values)\n",
    "    y.append(features.iloc[i + HORIZON][\"precip\"])  # forecast rain\n",
    "\n",
    "x = np.array(x)\n",
    "y = np.array(y)\n",
    "\n",
    "split_idx = int(SPLIT_FRACTION * len(x))\n",
    "x_train, x_val = x[:split_idx], x[split_idx:]\n",
    "y_train, y_val = y[:split_idx], y[split_idx:]"
   ]
  },
  {
   "cell_type": "code",
   "execution_count": 7,
   "id": "bbf882b2",
   "metadata": {},
   "outputs": [
    {
     "name": "stdout",
     "output_type": "stream",
     "text": [
      "\u001b[1m1644/1644\u001b[0m \u001b[32m━━━━━━━━━━━━━━━━━━━━\u001b[0m\u001b[37m\u001b[0m \u001b[1m9s\u001b[0m 5ms/step\n",
      "Mean Squared Error: 1.3995\n",
      "Mean Absolute Error: 0.2904\n"
     ]
    }
   ],
   "source": [
    "from sklearn.metrics import mean_squared_error, mean_absolute_error, confusion_matrix, ConfusionMatrixDisplay\n",
    "import numpy as np\n",
    "import matplotlib.pyplot as plt\n",
    "\n",
    "# ── PREDICT ───────────────────────────────────────────────\n",
    "y_pred = model.predict(x_val).flatten()  # or x_test if you have separate test set\n",
    "\n",
    "# ── EVALUATE REGRESSION METRICS ───────────────────────────\n",
    "mse = mean_squared_error(y_val, y_pred)\n",
    "mae = mean_absolute_error(y_val, y_pred)\n",
    "\n",
    "print(f\"Mean Squared Error: {mse:.4f}\")\n",
    "print(f\"Mean Absolute Error: {mae:.4f}\")"
   ]
  },
  {
   "cell_type": "code",
   "execution_count": 9,
   "id": "51c6713f",
   "metadata": {},
   "outputs": [
    {
     "data": {
      "image/png": "[encoded data removed]",
      "text/plain": [
       "<Figure size 640x480 with 2 Axes>"
      ]
     },
     "metadata": {},
     "output_type": "display_data"
    }
   ],
   "source": [
    "# ── DEFINE THRESHOLD ──────────────────────────────────────\n",
    "RAIN_THRESHOLD = 0.1\n",
    "\n",
    "# ── CONVERT TO BINARY CLASSES ─────────────────────────────\n",
    "y_true_binary = (y_val >= RAIN_THRESHOLD).astype(int)\n",
    "y_pred_binary = (y_pred >= RAIN_THRESHOLD).astype(int)\n",
    "\n",
    "# ── CONFUSION MATRIX ──────────────────────────────────────\n",
    "cm = confusion_matrix(y_true_binary, y_pred_binary, labels=[0, 1])\n",
    "disp = ConfusionMatrixDisplay(confusion_matrix=cm, display_labels=[\"No Rain\", \"Rain\"])\n",
    "\n",
    "disp.plot(cmap=\"Blues\")\n",
    "plt.title(\"Confusion Matrix: Predicted vs Actual Rain\")\n",
    "plt.grid(False)\n",
    "plt.show()\n"
   ]
  }
 ],
 "metadata": {
  "kernelspec": {
   "display_name": ".venv",
   "language": "python",
   "name": "python3"
  },
  "language_info": {
   "codemirror_mode": {
    "name": "ipython",
    "version": 3
   },
   "file_extension": ".py",
   "mimetype": "text/x-python",
   "name": "python",
   "nbconvert_exporter": "python",
   "pygments_lexer": "ipython3",
   "version": "3.10.0"
  }
 },
 "nbformat": 4,
 "nbformat_minor": 5
}
